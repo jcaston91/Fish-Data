{
 "cells": [
  {
   "cell_type": "code",
   "execution_count": 64,
   "metadata": {},
   "outputs": [],
   "source": [
    "import pandas as pd \n",
    "import numpy as np\n",
    "import thinkstats2\n",
    "import thinkplot\n",
    "import inspect\n",
    "import matplotlib.pyplot as plt\n",
    "%matplotlib inline\n",
    "from scipy import stats\n",
    "def magical_way(f):\n",
    "    return inspect.getargspec(f)[0]"
   ]
  },
  {
   "cell_type": "markdown",
   "metadata": {},
   "source": [
    "First I had to change the directory so that I could import the data"
   ]
  },
  {
   "cell_type": "code",
   "execution_count": 65,
   "metadata": {},
   "outputs": [
    {
     "name": "stdout",
     "output_type": "stream",
     "text": [
      "C:\\users\\bk997e\\Documents\\Homework\\SchoolProject\n"
     ]
    }
   ],
   "source": [
    "cd /users/bk997e/Documents/Homework/SchoolProject"
   ]
  },
  {
   "cell_type": "markdown",
   "metadata": {},
   "source": [
    "Now we will import our fish market data and take a preview of it "
   ]
  },
  {
   "cell_type": "code",
   "execution_count": 3,
   "metadata": {},
   "outputs": [
    {
     "data": {
      "text/html": [
       "<div>\n",
       "<style scoped>\n",
       "    .dataframe tbody tr th:only-of-type {\n",
       "        vertical-align: middle;\n",
       "    }\n",
       "\n",
       "    .dataframe tbody tr th {\n",
       "        vertical-align: top;\n",
       "    }\n",
       "\n",
       "    .dataframe thead th {\n",
       "        text-align: right;\n",
       "    }\n",
       "</style>\n",
       "<table border=\"1\" class=\"dataframe\">\n",
       "  <thead>\n",
       "    <tr style=\"text-align: right;\">\n",
       "      <th></th>\n",
       "      <th>Species</th>\n",
       "      <th>Weight</th>\n",
       "      <th>Length1</th>\n",
       "      <th>Length2</th>\n",
       "      <th>Length3</th>\n",
       "      <th>Height</th>\n",
       "      <th>Width</th>\n",
       "    </tr>\n",
       "  </thead>\n",
       "  <tbody>\n",
       "    <tr>\n",
       "      <th>0</th>\n",
       "      <td>Bream</td>\n",
       "      <td>242.0</td>\n",
       "      <td>23.2</td>\n",
       "      <td>25.4</td>\n",
       "      <td>30.0</td>\n",
       "      <td>11.5200</td>\n",
       "      <td>4.0200</td>\n",
       "    </tr>\n",
       "    <tr>\n",
       "      <th>1</th>\n",
       "      <td>Bream</td>\n",
       "      <td>290.0</td>\n",
       "      <td>24.0</td>\n",
       "      <td>26.3</td>\n",
       "      <td>31.2</td>\n",
       "      <td>12.4800</td>\n",
       "      <td>4.3056</td>\n",
       "    </tr>\n",
       "    <tr>\n",
       "      <th>2</th>\n",
       "      <td>Bream</td>\n",
       "      <td>340.0</td>\n",
       "      <td>23.9</td>\n",
       "      <td>26.5</td>\n",
       "      <td>31.1</td>\n",
       "      <td>12.3778</td>\n",
       "      <td>4.6961</td>\n",
       "    </tr>\n",
       "    <tr>\n",
       "      <th>3</th>\n",
       "      <td>Bream</td>\n",
       "      <td>363.0</td>\n",
       "      <td>26.3</td>\n",
       "      <td>29.0</td>\n",
       "      <td>33.5</td>\n",
       "      <td>12.7300</td>\n",
       "      <td>4.4555</td>\n",
       "    </tr>\n",
       "    <tr>\n",
       "      <th>4</th>\n",
       "      <td>Bream</td>\n",
       "      <td>430.0</td>\n",
       "      <td>26.5</td>\n",
       "      <td>29.0</td>\n",
       "      <td>34.0</td>\n",
       "      <td>12.4440</td>\n",
       "      <td>5.1340</td>\n",
       "    </tr>\n",
       "  </tbody>\n",
       "</table>\n",
       "</div>"
      ],
      "text/plain": [
       "  Species  Weight  Length1  Length2  Length3   Height   Width\n",
       "0   Bream   242.0     23.2     25.4     30.0  11.5200  4.0200\n",
       "1   Bream   290.0     24.0     26.3     31.2  12.4800  4.3056\n",
       "2   Bream   340.0     23.9     26.5     31.1  12.3778  4.6961\n",
       "3   Bream   363.0     26.3     29.0     33.5  12.7300  4.4555\n",
       "4   Bream   430.0     26.5     29.0     34.0  12.4440  5.1340"
      ]
     },
     "execution_count": 3,
     "metadata": {},
     "output_type": "execute_result"
    }
   ],
   "source": [
    "Fish = pd.read_csv(\"Fish-market.csv\")\n",
    "Fish.head()"
   ]
  },
  {
   "cell_type": "markdown",
   "metadata": {},
   "source": [
    "Now we will take a look at at the histogram of our variables along with their mean, mode, variance, and standard deviation of the ones that we could view."
   ]
  },
  {
   "cell_type": "code",
   "execution_count": 103,
   "metadata": {},
   "outputs": [
    {
     "data": {
      "image/png": "[encoded data removed]",
      "text/plain": [
       "<Figure size 432x288 with 1 Axes>"
      ]
     },
     "metadata": {
      "needs_background": "light"
     },
     "output_type": "display_data"
    }
   ],
   "source": [
    "thinkplot.Hist(Specieshist)\n",
    "thinkplot.Config(xlabel='Fish Species', ylabel='frequency')"
   ]
  },
  {
   "cell_type": "code",
   "execution_count": 106,
   "metadata": {},
   "outputs": [
    {
     "name": "stdout",
     "output_type": "stream",
     "text": [
      "The mean is  398.3264150943396\n",
      "The mode is  0    300.0\n",
      "dtype: float64\n",
      "The variance is 128148.47512061145\n",
      "The standard deviation is  357.9783165508931\n"
     ]
    },
    {
     "data": {
      "image/png": "[encoded data removed]",
      "text/plain": [
       "<Figure size 432x288 with 1 Axes>"
      ]
     },
     "metadata": {
      "needs_background": "light"
     },
     "output_type": "display_data"
    }
   ],
   "source": [
    "print(\"The mean is \",Fish.Weight.mean())\n",
    "print(\"The mode is \", Fish.Weight.mode())\n",
    "print(\"The variance is\", Fish.Weight.var())\n",
    "print(\"The standard deviation is \", Fish.Weight.std())\n",
    "Weighthist = thinkstats2.Hist(Fish.Weight)\n",
    "plt.hist(Weighthist)\n",
    "#thinkplot.Hist(Weighthist, width=8)\n",
    "thinkplot.Config(xlabel='Fish Weight', ylabel='frequency')"
   ]
  },
  {
   "cell_type": "code",
   "execution_count": 107,
   "metadata": {},
   "outputs": [
    {
     "name": "stdout",
     "output_type": "stream",
     "text": [
      "The mean is  26.24716981132075\n",
      "The mode is  0    19.0\n",
      "dtype: float64\n",
      "The variance is 99.92883687604487\n",
      "The standard deviation is  9.996441210553128\n"
     ]
    },
    {
     "data": {
      "image/png": "[encoded data removed]",
      "text/plain": [
       "<Figure size 432x288 with 1 Axes>"
      ]
     },
     "metadata": {
      "needs_background": "light"
     },
     "output_type": "display_data"
    }
   ],
   "source": [
    "print(\"The mean is \",Fish.Length1.mean())\n",
    "print(\"The mode is \", Fish.Length1.mode())\n",
    "print(\"The variance is\", Fish.Length1.var())\n",
    "print(\"The standard deviation is \", Fish.Length1.std())\n",
    "Length1hist = thinkstats2.Hist(Fish.Length1)\n",
    "plt.hist(Length1hist)\n",
    "thinkplot.Config(xlabel='Fish Length1', xlim=[5,55], ylabel='frequency')"
   ]
  },
  {
   "cell_type": "code",
   "execution_count": 105,
   "metadata": {
    "scrolled": false
   },
   "outputs": [
    {
     "name": "stdout",
     "output_type": "stream",
     "text": [
      "The mean is  28.415723270440253\n",
      "The mode is  0    22.0\n",
      "dtype: float64\n",
      "The variance is 114.83968792293608\n",
      "The standard deviation is  10.716328098884247\n"
     ]
    },
    {
     "data": {
      "image/png": "[encoded data removed]",
      "text/plain": [
       "<Figure size 432x288 with 1 Axes>"
      ]
     },
     "metadata": {
      "needs_background": "light"
     },
     "output_type": "display_data"
    }
   ],
   "source": [
    "print(\"The mean is \",Fish.Length2.mean())\n",
    "print(\"The mode is \", Fish.Length2.mode())\n",
    "print(\"The variance is\", Fish.Length2.var())\n",
    "print(\"The standard deviation is \", Fish.Length2.std())\n",
    "Length2hist = thinkstats2.Hist(Fish.Length2)\n",
    "plt.hist(Length2hist)\n",
    "thinkplot.Config(xlabel='Fish Length2', xlim=[5,55], ylabel='frequency')"
   ]
  },
  {
   "cell_type": "code",
   "execution_count": 106,
   "metadata": {},
   "outputs": [
    {
     "name": "stdout",
     "output_type": "stream",
     "text": [
      "The mean is  31.227044025157248\n",
      "The mode is  0    23.5\n",
      "dtype: float64\n",
      "The variance is 134.79780829551788\n",
      "The standard deviation is  11.610245832690964\n"
     ]
    },
    {
     "data": {
      "image/png": "[encoded data removed]",
      "text/plain": [
       "<Figure size 432x288 with 1 Axes>"
      ]
     },
     "metadata": {
      "needs_background": "light"
     },
     "output_type": "display_data"
    }
   ],
   "source": [
    "print(\"The mean is \",Fish.Length3.mean())\n",
    "print(\"The mode is \", Fish.Length3.mode())\n",
    "print(\"The variance is\", Fish.Length3.var())\n",
    "print(\"The standard deviation is \", Fish.Length3.std())\n",
    "Length3hist = thinkstats2.Hist(Fish.Length3)\n",
    "plt.hist(Length3hist)\n",
    "thinkplot.Config(xlabel='Fish Length3', ylabel='frequency')"
   ]
  },
  {
   "cell_type": "code",
   "execution_count": 108,
   "metadata": {},
   "outputs": [
    {
     "name": "stdout",
     "output_type": "stream",
     "text": [
      "The mean is  8.970993710691822\n",
      "The mode is  0     2.2139\n",
      "1     5.6925\n",
      "2     6.1100\n",
      "3     9.6000\n",
      "4    11.1366\n",
      "dtype: float64\n",
      "The variance is 18.371575761479175\n",
      "The standard deviation is  4.286207619968867\n"
     ]
    },
    {
     "data": {
      "image/png": "[encoded data removed]",
      "text/plain": [
       "<Figure size 432x288 with 1 Axes>"
      ]
     },
     "metadata": {
      "needs_background": "light"
     },
     "output_type": "display_data"
    }
   ],
   "source": [
    "print(\"The mean is \",Fish.Height.mean())\n",
    "print(\"The mode is \", Fish.Height.mode())\n",
    "print(\"The variance is\", Fish.Height.var())\n",
    "print(\"The standard deviation is \", Fish.Height.std())\n",
    "Heighthist = thinkstats2.Hist(Fish.Height)\n",
    "plt.hist(Heighthist)\n",
    "thinkplot.Config(xlabel='Fish Height', ylabel='frequency')"
   ]
  },
  {
   "cell_type": "code",
   "execution_count": 104,
   "metadata": {},
   "outputs": [
    {
     "name": "stdout",
     "output_type": "stream",
     "text": [
      "The mean is  4.417485534591194\n",
      "The mode is  0    3.525\n",
      "dtype: float64\n",
      "The variance is 2.8419346880805683\n",
      "The standard deviation is  1.6858038699921674\n"
     ]
    },
    {
     "data": {
      "image/png": "[encoded data removed]",
      "text/plain": [
       "<Figure size 432x288 with 1 Axes>"
      ]
     },
     "metadata": {
      "needs_background": "light"
     },
     "output_type": "display_data"
    }
   ],
   "source": [
    "print(\"The mean is \",Fish.Width.mean())\n",
    "print(\"The mode is \", Fish.Width.mode())\n",
    "print(\"The variance is\", Fish.Width.var())\n",
    "print(\"The standard deviation is \", Fish.Width.std())\n",
    "Widthhist = thinkstats2.Hist(Fish.Width)\n",
    "plt.hist(Widthhist)\n",
    "thinkplot.Config(xlabel='Fish Width', ylabel='frequency')"
   ]
  },
  {
   "cell_type": "markdown",
   "metadata": {},
   "source": [
    "Now lets take a look at the PMF of the fish species and plot it"
   ]
  },
  {
   "cell_type": "code",
   "execution_count": 136,
   "metadata": {},
   "outputs": [
    {
     "data": {
      "text/plain": [
       "Pmf({'Perch': 0.35220125786163525, 'Bream': 0.22012578616352202, 'Roach': 0.12578616352201258, 'Pike': 0.1069182389937107, 'Smelt': 0.08805031446540881, 'Parkki': 0.06918238993710692, 'Whitefish': 0.03773584905660378}, 'Fish Species')"
      ]
     },
     "execution_count": 136,
     "metadata": {},
     "output_type": "execute_result"
    },
    {
     "data": {
      "image/png": "[encoded data removed]",
      "text/plain": [
       "<Figure size 432x288 with 1 Axes>"
      ]
     },
     "metadata": {
      "needs_background": "light"
     },
     "output_type": "display_data"
    }
   ],
   "source": [
    "pmf = thinkstats2.Pmf(Fish.Species, label='Fish Species')\n",
    "thinkplot.Hist(pmf)\n",
    "thinkplot.Config(xlabel='Fish Species', ylabel='Pmf')\n",
    "pmf"
   ]
  },
  {
   "cell_type": "markdown",
   "metadata": {},
   "source": [
    "Here we will look at the CDF of the fish's weight and plot it with normal distribution."
   ]
  },
  {
   "cell_type": "code",
   "execution_count": 58,
   "metadata": {},
   "outputs": [
    {
     "data": {
      "image/png": "[encoded data removed]",
      "text/plain": [
       "<Figure size 432x288 with 1 Axes>"
      ]
     },
     "metadata": {
      "needs_background": "light"
     },
     "output_type": "display_data"
    }
   ],
   "source": [
    "cdf=thinkstats2.Cdf(Fish.Weight, label='Fish Weight')\n",
    "thinkplot.Cdf(cdf)\n",
    "thinkplot.Config(xlabel='Fish Weight', ylabel='CDF')\n",
    "thinkplot.PrePlot(3)\n",
    "\n",
    "mus = [(min(Fish.Weight)+max(Fish.Weight))/2]\n",
    "sigmas = [0.68*len(Fish.Weight)]\n",
    "for mu, sigma in zip(mus, sigmas):\n",
    "    xs, ps = thinkstats2.RenderNormalCdf(mu=mu, sigma=sigma, \n",
    "                                               low=-min(Fish.Weight), high=max(Fish.Weight))\n",
    "    label = r'$\\mu=%g$, $\\sigma=%g$' % (mu, sigma)\n",
    "    thinkplot.Plot(xs, ps, label=label)\n",
    "\n",
    "thinkplot.Config(title='Normal CDF', xlabel='x', ylabel='CDF',\n",
    "                 loc='upper left')\n",
    "#cdf"
   ]
  },
  {
   "cell_type": "markdown",
   "metadata": {},
   "source": [
    "The CDF normal distrubtion shows that the Fish weights are not normally distributed. This could be due to the fact that there are so many species of fish, and 90% of them weigh less that 1000 for example."
   ]
  },
  {
   "cell_type": "markdown",
   "metadata": {},
   "source": [
    "Now we will take a look at two scatter plots one with Length1 and Weight. The other scatter plot will be of the Width and Height. we will also and also their covariance and correlation"
   ]
  },
  {
   "cell_type": "code",
   "execution_count": 82,
   "metadata": {},
   "outputs": [
    {
     "name": "stdout",
     "output_type": "stream",
     "text": [
      "This is the covariance between length1 and weight 3256.273470986116\n",
      "This is the correlation between length1 and weight 0.9157117160312038\n"
     ]
    },
    {
     "data": {
      "image/png": "[encoded data removed]",
      "text/plain": [
       "<Figure size 432x288 with 1 Axes>"
      ]
     },
     "metadata": {
      "needs_background": "light"
     },
     "output_type": "display_data"
    }
   ],
   "source": [
    "def Cov(xs, ys, meanx=None, meany=None):\n",
    "    xs = np.asarray(xs)\n",
    "    ys = np.asarray(ys)\n",
    "\n",
    "    if meanx is None:\n",
    "        meanx = np.mean(xs)\n",
    "    if meany is None:\n",
    "        meany = np.mean(ys)\n",
    "\n",
    "    cov = np.dot(xs-meanx, ys-meany) / len(xs)\n",
    "    return cov\n",
    "\n",
    "def Corr(xs, ys):\n",
    "    xs = np.asarray(xs)\n",
    "    ys = np.asarray(ys)\n",
    "\n",
    "    meanx, varx = thinkstats2.MeanVar(xs)\n",
    "    meany, vary = thinkstats2.MeanVar(ys)\n",
    "\n",
    "    corr = Cov(xs, ys, meanx, meany) / np.sqrt(varx * vary)\n",
    "    return corr\n",
    "\n",
    "plt.scatter(Fish.Length1, Fish.Weight, alpha=1)\n",
    "plt.xlabel('Length1')\n",
    "plt.ylabel('Weight')\n",
    "cov=Cov(Fish.Length1, Fish.Weight)\n",
    "corr=Corr(Fish.Length1, Fish.Weight)\n",
    "print('This is the covariance between length1 and weight', cov)\n",
    "print('This is the correlation between length1 and weight', corr)"
   ]
  },
  {
   "cell_type": "code",
   "execution_count": 110,
   "metadata": {},
   "outputs": [
    {
     "name": "stdout",
     "output_type": "stream",
     "text": [
      "This is the covariance between Height and Width 5.693092412424745\n",
      "This is the correlation between Height and Width 0.7928810172871046\n"
     ]
    },
    {
     "data": {
      "image/png": "[encoded data removed]",
      "text/plain": [
       "<Figure size 432x288 with 1 Axes>"
      ]
     },
     "metadata": {
      "needs_background": "light"
     },
     "output_type": "display_data"
    }
   ],
   "source": [
    "plt.scatter(Fish.Height, Fish.Width, alpha=1)\n",
    "plt.xlabel('Height')\n",
    "plt.ylabel('Width')\n",
    "cov=Cov(Fish.Height, Fish.Width)\n",
    "corr=Corr(Fish.Height, Fish.Width)\n",
    "print('This is the covariance between Height and Width', cov)\n",
    "print('This is the correlation between Height and Width', corr)"
   ]
  },
  {
   "cell_type": "markdown",
   "metadata": {},
   "source": [
    "Here we will import our class to perform the hypothesis test"
   ]
  },
  {
   "cell_type": "code",
   "execution_count": 91,
   "metadata": {},
   "outputs": [],
   "source": [
    "class DiffMeansPermute(thinkstats2.HypothesisTest):\n",
    "\n",
    "    def TestStatistic(self, data):\n",
    "        group1, group2 = data\n",
    "        test_stat = abs(group1.mean() - group2.mean())\n",
    "        return test_stat\n",
    "\n",
    "    def MakeModel(self):\n",
    "        group1, group2 = self.data\n",
    "        self.n, self.m = len(group1), len(group2)\n",
    "        self.pool = np.hstack((group1, group2))\n",
    "\n",
    "    def RunModel(self):\n",
    "        np.random.shuffle(self.pool)\n",
    "        data = self.pool[:self.n], self.pool[self.n:]\n",
    "        return data"
   ]
  },
  {
   "cell_type": "markdown",
   "metadata": {},
   "source": [
    "Now we will begin the necessary steps to perform a hypothesis test on the fish weight"
   ]
  },
  {
   "cell_type": "code",
   "execution_count": 84,
   "metadata": {},
   "outputs": [],
   "source": [
    "from sklearn.model_selection import train_test_split\n",
    "\n",
    "x=Fish.Weight"
   ]
  },
  {
   "cell_type": "code",
   "execution_count": 86,
   "metadata": {},
   "outputs": [],
   "source": [
    "x_train, x_test = train_test_split(x, test_size=0.2)"
   ]
  },
  {
   "cell_type": "code",
   "execution_count": 93,
   "metadata": {},
   "outputs": [
    {
     "data": {
      "text/plain": [
       "26     720.0\n",
       "44     145.0\n",
       "53     272.0\n",
       "139    770.0\n",
       "45     160.0\n",
       "Name: Weight, dtype: float64"
      ]
     },
     "execution_count": 93,
     "metadata": {},
     "output_type": "execute_result"
    }
   ],
   "source": [
    "x_train.head()"
   ]
  },
  {
   "cell_type": "code",
   "execution_count": 94,
   "metadata": {},
   "outputs": [
    {
     "data": {
      "text/plain": [
       "95     170.0\n",
       "16     700.0\n",
       "71     300.0\n",
       "76      70.0\n",
       "105    250.0\n",
       "Name: Weight, dtype: float64"
      ]
     },
     "execution_count": 94,
     "metadata": {},
     "output_type": "execute_result"
    }
   ],
   "source": [
    "x_test.head()"
   ]
  },
  {
   "cell_type": "markdown",
   "metadata": {},
   "source": [
    "Here are the values from our hypothesis test"
   ]
  },
  {
   "cell_type": "code",
   "execution_count": 92,
   "metadata": {},
   "outputs": [
    {
     "name": "stdout",
     "output_type": "stream",
     "text": [
      "p-value = 0.83\n",
      "actual = 12.46277066929133\n",
      "ts max = 181.70580708661424\n"
     ]
    }
   ],
   "source": [
    "data = x_train.dropna().values, x_test.dropna().values\n",
    "ht = DiffMeansPermute(data)\n",
    "p_value = ht.PValue(iters=100)\n",
    "print('p-value =', p_value)\n",
    "print('actual =', ht.actual)\n",
    "print('ts max =', ht.MaxTestStat())"
   ]
  },
  {
   "cell_type": "markdown",
   "metadata": {},
   "source": [
    "Here we will look at regression weight as a factor of species"
   ]
  },
  {
   "cell_type": "code",
   "execution_count": 96,
   "metadata": {},
   "outputs": [
    {
     "data": {
      "text/html": [
       "<table class=\"simpletable\">\n",
       "<caption>OLS Regression Results</caption>\n",
       "<tr>\n",
       "  <th>Dep. Variable:</th>         <td>Weight</td>      <th>  R-squared:         </th> <td>   0.371</td>\n",
       "</tr>\n",
       "<tr>\n",
       "  <th>Model:</th>                   <td>OLS</td>       <th>  Adj. R-squared:    </th> <td>   0.346</td>\n",
       "</tr>\n",
       "<tr>\n",
       "  <th>Method:</th>             <td>Least Squares</td>  <th>  F-statistic:       </th> <td>   14.95</td>\n",
       "</tr>\n",
       "<tr>\n",
       "  <th>Date:</th>             <td>Wed, 07 Aug 2019</td> <th>  Prob (F-statistic):</th> <td>2.11e-13</td>\n",
       "</tr>\n",
       "<tr>\n",
       "  <th>Time:</th>                 <td>22:14:04</td>     <th>  Log-Likelihood:    </th> <td> -1123.2</td>\n",
       "</tr>\n",
       "<tr>\n",
       "  <th>No. Observations:</th>      <td>   159</td>      <th>  AIC:               </th> <td>   2260.</td>\n",
       "</tr>\n",
       "<tr>\n",
       "  <th>Df Residuals:</th>          <td>   152</td>      <th>  BIC:               </th> <td>   2282.</td>\n",
       "</tr>\n",
       "<tr>\n",
       "  <th>Df Model:</th>              <td>     6</td>      <th>                     </th>     <td> </td>   \n",
       "</tr>\n",
       "<tr>\n",
       "  <th>Covariance Type:</th>      <td>nonrobust</td>    <th>                     </th>     <td> </td>   \n",
       "</tr>\n",
       "</table>\n",
       "<table class=\"simpletable\">\n",
       "<tr>\n",
       "            <td></td>              <th>coef</th>     <th>std err</th>      <th>t</th>      <th>P>|t|</th>  <th>[0.025</th>    <th>0.975]</th>  \n",
       "</tr>\n",
       "<tr>\n",
       "  <th>Intercept</th>            <td>  617.8286</td> <td>   48.921</td> <td>   12.629</td> <td> 0.000</td> <td>  521.175</td> <td>  714.482</td>\n",
       "</tr>\n",
       "<tr>\n",
       "  <th>Species[T.Parkki]</th>    <td> -463.0104</td> <td>  100.042</td> <td>   -4.628</td> <td> 0.000</td> <td> -660.663</td> <td> -265.358</td>\n",
       "</tr>\n",
       "<tr>\n",
       "  <th>Species[T.Perch]</th>     <td> -235.5893</td> <td>   62.363</td> <td>   -3.778</td> <td> 0.000</td> <td> -358.799</td> <td> -112.379</td>\n",
       "</tr>\n",
       "<tr>\n",
       "  <th>Species[T.Pike]</th>      <td>  100.8773</td> <td>   85.561</td> <td>    1.179</td> <td> 0.240</td> <td>  -68.165</td> <td>  269.920</td>\n",
       "</tr>\n",
       "<tr>\n",
       "  <th>Species[T.Roach]</th>     <td> -465.7786</td> <td>   81.127</td> <td>   -5.741</td> <td> 0.000</td> <td> -626.061</td> <td> -305.496</td>\n",
       "</tr>\n",
       "<tr>\n",
       "  <th>Species[T.Smelt]</th>     <td> -606.6500</td> <td>   91.524</td> <td>   -6.628</td> <td> 0.000</td> <td> -787.473</td> <td> -425.827</td>\n",
       "</tr>\n",
       "<tr>\n",
       "  <th>Species[T.Whitefish]</th> <td>  -86.8286</td> <td>  127.884</td> <td>   -0.679</td> <td> 0.498</td> <td> -339.488</td> <td>  165.831</td>\n",
       "</tr>\n",
       "</table>\n",
       "<table class=\"simpletable\">\n",
       "<tr>\n",
       "  <th>Omnibus:</th>       <td>26.957</td> <th>  Durbin-Watson:     </th> <td>   0.353</td>\n",
       "</tr>\n",
       "<tr>\n",
       "  <th>Prob(Omnibus):</th> <td> 0.000</td> <th>  Jarque-Bera (JB):  </th> <td>  34.653</td>\n",
       "</tr>\n",
       "<tr>\n",
       "  <th>Skew:</th>          <td> 1.050</td> <th>  Prob(JB):          </th> <td>2.99e-08</td>\n",
       "</tr>\n",
       "<tr>\n",
       "  <th>Kurtosis:</th>      <td> 3.906</td> <th>  Cond. No.          </th> <td>    7.28</td>\n",
       "</tr>\n",
       "</table><br/><br/>Warnings:<br/>[1] Standard Errors assume that the covariance matrix of the errors is correctly specified."
      ],
      "text/plain": [
       "<class 'statsmodels.iolib.summary.Summary'>\n",
       "\"\"\"\n",
       "                            OLS Regression Results                            \n",
       "==============================================================================\n",
       "Dep. Variable:                 Weight   R-squared:                       0.371\n",
       "Model:                            OLS   Adj. R-squared:                  0.346\n",
       "Method:                 Least Squares   F-statistic:                     14.95\n",
       "Date:                Wed, 07 Aug 2019   Prob (F-statistic):           2.11e-13\n",
       "Time:                        22:14:04   Log-Likelihood:                -1123.2\n",
       "No. Observations:                 159   AIC:                             2260.\n",
       "Df Residuals:                     152   BIC:                             2282.\n",
       "Df Model:                           6                                         \n",
       "Covariance Type:            nonrobust                                         \n",
       "========================================================================================\n",
       "                           coef    std err          t      P>|t|      [0.025      0.975]\n",
       "----------------------------------------------------------------------------------------\n",
       "Intercept              617.8286     48.921     12.629      0.000     521.175     714.482\n",
       "Species[T.Parkki]     -463.0104    100.042     -4.628      0.000    -660.663    -265.358\n",
       "Species[T.Perch]      -235.5893     62.363     -3.778      0.000    -358.799    -112.379\n",
       "Species[T.Pike]        100.8773     85.561      1.179      0.240     -68.165     269.920\n",
       "Species[T.Roach]      -465.7786     81.127     -5.741      0.000    -626.061    -305.496\n",
       "Species[T.Smelt]      -606.6500     91.524     -6.628      0.000    -787.473    -425.827\n",
       "Species[T.Whitefish]   -86.8286    127.884     -0.679      0.498    -339.488     165.831\n",
       "==============================================================================\n",
       "Omnibus:                       26.957   Durbin-Watson:                   0.353\n",
       "Prob(Omnibus):                  0.000   Jarque-Bera (JB):               34.653\n",
       "Skew:                           1.050   Prob(JB):                     2.99e-08\n",
       "Kurtosis:                       3.906   Cond. No.                         7.28\n",
       "==============================================================================\n",
       "\n",
       "Warnings:\n",
       "[1] Standard Errors assume that the covariance matrix of the errors is correctly specified.\n",
       "\"\"\""
      ]
     },
     "execution_count": 96,
     "metadata": {},
     "output_type": "execute_result"
    }
   ],
   "source": [
    "import statsmodels.formula.api as smf\n",
    "\n",
    "formula = 'Weight ~ Species'\n",
    "model = smf.ols(formula, data=Fish)\n",
    "results = model.fit()\n",
    "results.summary()"
   ]
  }
 ],
 "metadata": {
  "kernelspec": {
   "display_name": "Python 3",
   "language": "python",
   "name": "python3"
  },
  "language_info": {
   "codemirror_mode": {
    "name": "ipython",
    "version": 3
   },
   "file_extension": ".py",
   "mimetype": "text/x-python",
   "name": "python",
   "nbconvert_exporter": "python",
   "pygments_lexer": "ipython3",
   "version": "3.7.1"
  }
 },
 "nbformat": 4,
 "nbformat_minor": 2
}
